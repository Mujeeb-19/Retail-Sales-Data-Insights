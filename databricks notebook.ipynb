{
 "cells": [
  {
   "cell_type": "code",
   "execution_count": 0,
   "metadata": {
    "application/vnd.databricks.v1+cell": {
     "cellMetadata": {
      "byteLimit": 2048000,
      "rowLimit": 10000
     },
     "inputWidgets": {},
     "nuid": "019dad17-290f-4d74-9135-47f4def77514",
     "showTitle": false,
     "title": ""
    }
   },
   "outputs": [],
   "source": [
    "spark.conf.set(\"fs.azure.account.key.adlsprojct22.dfs.core.windows.net\", \"Ny+m1mhXiC4+DViiZrGuJYWKXhNa2J5l/HnArmFcRzca5fZSfrCfenBMPpgijqbY9+jEtXkeVLxz+AStih086Q==\")"
   ]
  },
  {
   "cell_type": "code",
   "execution_count": 0,
   "metadata": {
    "application/vnd.databricks.v1+cell": {
     "cellMetadata": {
      "byteLimit": 2048000,
      "rowLimit": 10000
     },
     "inputWidgets": {},
     "nuid": "63513137-df13-4906-927d-8831851c11e2",
     "showTitle": false,
     "title": ""
    }
   },
   "outputs": [
    {
     "output_type": "execute_result",
     "data": {
      "text/plain": [
       "[FileInfo(path='abfss://raw@adlsprojct22.dfs.core.windows.net/dbo.online_retail_sales_dataset.txt', name='dbo.online_retail_sales_dataset.txt', size=125017551, modificationTime=1724425156000)]"
      ]
     },
     "execution_count": 21,
     "metadata": {},
     "output_type": "execute_result"
    }
   ],
   "source": [
    "dbutils.fs.ls(\"abfss://raw@adlsprojct22.dfs.core.windows.net/\")"
   ]
  },
  {
   "cell_type": "code",
   "execution_count": 0,
   "metadata": {
    "application/vnd.databricks.v1+cell": {
     "cellMetadata": {
      "byteLimit": 2048000,
      "rowLimit": 10000
     },
     "inputWidgets": {},
     "nuid": "fde5d0b4-633f-4c63-bf4b-e8cf65ac785f",
     "showTitle": false,
     "title": ""
    }
   },
   "outputs": [
    {
     "output_type": "stream",
     "name": "stdout",
     "output_type": "stream",
     "text": [
      "+--------------+-------------------+-----------+----------+--------------------+--------+------+--------+--------------+------------+---------------+-----------------+------------+\n|transaction_id|          timestamp|customer_id|product_id|    product_category|quantity| price|discount|payment_method|customer_age|customer_gender|customer_location|total_amount|\n+--------------+-------------------+-----------+----------+--------------------+--------+------+--------+--------------+------------+---------------+-----------------+------------+\n|         21606|2023-01-16 00:05:00|       2231|       759|               Books|       4|177.62|    0.05|     Gift Card|          24|         Female|    North America|      674.96|\n|         21607|2023-01-16 00:06:00|       1542|       331|Beauty & Personal...|       7|395.48|    0.07|        PayPal|          64|          Other|           Africa|     2574.57|\n|         21608|2023-01-16 00:07:00|       2133|       797|               Books|       7|145.02|    0.15|     Gift Card|          21|         Female|           Africa|      862.87|\n|         21609|2023-01-16 00:08:00|       3113|       236|            Clothing|       7| 487.3|    0.42|    Debit Card|          59|           Male|           Africa|     1978.44|\n|         21610|2023-01-16 00:09:00|       4994|       202|      Home & Kitchen|       7|412.64|    0.39|    Debit Card|          22|         Female|           Africa|     1761.97|\n|         21611|2023-01-16 00:10:00|       2340|       328|   Sports & Outdoors|       8|259.83|     0.4|    Debit Card|          21|          Other|           Africa|     1247.18|\n|         21612|2023-01-16 00:11:00|       3035|       827|Beauty & Personal...|       1|218.24|    0.32|    Debit Card|          52|           Male|             Asia|       148.4|\n|         21613|2023-01-16 00:12:00|       4513|       642|      Home & Kitchen|       4|283.35|    0.21|   Credit Card|          48|           Male|           Africa|      895.39|\n|         21614|2023-01-16 00:13:00|       4750|       601|            Clothing|       7|  5.78|    0.43|    Debit Card|          43|          Other|    North America|       23.06|\n|         21615|2023-01-16 00:14:00|       3999|       559|         Electronics|       1| 240.3|    0.01|     Gift Card|          20|          Other|    North America|       237.9|\n|         21616|2023-01-16 00:15:00|       3729|       859|   Sports & Outdoors|       3|421.65|    0.23|    Debit Card|          46|           Male|             Asia|      974.01|\n|         21617|2023-01-16 00:16:00|       2805|       134|      Home & Kitchen|       2|214.92|    0.48|     Gift Card|          34|           Male|    South America|      223.52|\n|         21618|2023-01-16 00:17:00|       4055|       553|            Clothing|       1| 39.66|    0.32|        PayPal|          68|         Female|           Africa|       26.97|\n|         21619|2023-01-16 00:18:00|       4088|       218|      Home & Kitchen|       6|195.25|    0.13|     Gift Card|          49|         Female|             Asia|      1019.2|\n|         21620|2023-01-16 00:19:00|       4413|       213|               Books|       6|384.57|    0.36|    Debit Card|          24|         Female|           Africa|     1476.75|\n|         21621|2023-01-16 00:20:00|       1554|       160|            Clothing|       9|192.76|     0.4|    Debit Card|          62|         Female|           Africa|      1040.9|\n|         21622|2023-01-16 00:21:00|       4372|       824|               Books|       1| 302.1|     0.1|    Debit Card|          58|           Male|    North America|      271.89|\n|         21623|2023-01-16 00:22:00|       2692|       294|   Sports & Outdoors|       4|341.74|    0.09|   Credit Card|          45|           Male|        Australia|     1243.93|\n|         21624|2023-01-16 00:23:00|       1398|       593|Beauty & Personal...|       6|393.27|    0.33|        PayPal|          49|         Female|           Europe|     1580.95|\n|         21625|2023-01-16 00:24:00|       1529|       198|Beauty & Personal...|       4|329.47|    0.28|    Debit Card|          43|         Female|    North America|      948.87|\n+--------------+-------------------+-----------+----------+--------------------+--------+------+--------+--------------+------------+---------------+-----------------+------------+\nonly showing top 20 rows\n\n"
     ]
    }
   ],
   "source": [
    "from pyspark.sql import SparkSession\n",
    "from datetime import datetime\n",
    "\n",
    "spark = SparkSession.builder.appName(\"ReadData\").getOrCreate()\n",
    "storage_account_name = \"adlsprojct22\"\n",
    "src_container = \"raw\"\n",
    "file_path = \"dbo.online_retail_sales_dataset.txt\"\n",
    "target_container = \"preprocessed\"\n",
    "\n",
    "adls_url = f\"abfss://{src_container}@{storage_account_name}.dfs.core.windows.net/{file_path}\"\n",
    "\n",
    "df = spark.read.csv(adls_url, sep=',', header=True)\n",
    "\n",
    "df.show()\n"
   ]
  },
  {
   "cell_type": "code",
   "execution_count": 0,
   "metadata": {
    "application/vnd.databricks.v1+cell": {
     "cellMetadata": {
      "byteLimit": 2048000,
      "rowLimit": 10000
     },
     "inputWidgets": {},
     "nuid": "99c0ece7-32b1-4f3c-bcdf-3a5f5571bdf0",
     "showTitle": false,
     "title": ""
    }
   },
   "outputs": [],
   "source": [
    "from pyspark.sql.types import StructType, StructField, IntegerType, StringType, DoubleType, TimestampType\n",
    "\n",
    "schema = StructType([\n",
    "    StructField(\"transaction_id\", IntegerType(), True),\n",
    "    StructField(\"timestamp\", TimestampType(), True),\n",
    "    StructField(\"customer_id\", IntegerType(), True),\n",
    "    StructField(\"product_id\", IntegerType(), True),\n",
    "    StructField(\"product_category\", StringType(), True),\n",
    "    StructField(\"quantity\", IntegerType(), True),\n",
    "    StructField(\"price\", DoubleType(), True),\n",
    "    StructField(\"discount\", DoubleType(), True),\n",
    "    StructField(\"payment_method\", StringType(), True),\n",
    "    StructField(\"customer_age\", IntegerType(), True),\n",
    "    StructField(\"customer_gender\", StringType(), True),\n",
    "    StructField(\"customer_location\", StringType(), True),\n",
    "    StructField(\"total_amount\", DoubleType(), True)\n",
    "])\n"
   ]
  },
  {
   "cell_type": "code",
   "execution_count": 0,
   "metadata": {
    "application/vnd.databricks.v1+cell": {
     "cellMetadata": {
      "byteLimit": 2048000,
      "rowLimit": 10000
     },
     "inputWidgets": {},
     "nuid": "f2586eb5-5018-48fb-b9f5-1659756149ee",
     "showTitle": false,
     "title": ""
    }
   },
   "outputs": [
    {
     "output_type": "stream",
     "name": "stdout",
     "output_type": "stream",
     "text": [
      "+--------------+-------------------+-----------+----------+--------------------+--------+------+--------+--------------+------------+---------------+-----------------+------------+\n|transaction_id|          timestamp|customer_id|product_id|    product_category|quantity| price|discount|payment_method|customer_age|customer_gender|customer_location|total_amount|\n+--------------+-------------------+-----------+----------+--------------------+--------+------+--------+--------------+------------+---------------+-----------------+------------+\n|         21606|2023-01-16 00:05:00|       2231|       759|               Books|       4|177.62|    0.05|     Gift Card|          24|         Female|    North America|      674.96|\n|         21607|2023-01-16 00:06:00|       1542|       331|Beauty & Personal...|       7|395.48|    0.07|        PayPal|          64|          Other|           Africa|     2574.57|\n|         21608|2023-01-16 00:07:00|       2133|       797|               Books|       7|145.02|    0.15|     Gift Card|          21|         Female|           Africa|      862.87|\n|         21609|2023-01-16 00:08:00|       3113|       236|            Clothing|       7| 487.3|    0.42|    Debit Card|          59|           Male|           Africa|     1978.44|\n|         21610|2023-01-16 00:09:00|       4994|       202|      Home & Kitchen|       7|412.64|    0.39|    Debit Card|          22|         Female|           Africa|     1761.97|\n|         21611|2023-01-16 00:10:00|       2340|       328|   Sports & Outdoors|       8|259.83|     0.4|    Debit Card|          21|          Other|           Africa|     1247.18|\n|         21612|2023-01-16 00:11:00|       3035|       827|Beauty & Personal...|       1|218.24|    0.32|    Debit Card|          52|           Male|             Asia|       148.4|\n|         21613|2023-01-16 00:12:00|       4513|       642|      Home & Kitchen|       4|283.35|    0.21|   Credit Card|          48|           Male|           Africa|      895.39|\n|         21614|2023-01-16 00:13:00|       4750|       601|            Clothing|       7|  5.78|    0.43|    Debit Card|          43|          Other|    North America|       23.06|\n|         21615|2023-01-16 00:14:00|       3999|       559|         Electronics|       1| 240.3|    0.01|     Gift Card|          20|          Other|    North America|       237.9|\n|         21616|2023-01-16 00:15:00|       3729|       859|   Sports & Outdoors|       3|421.65|    0.23|    Debit Card|          46|           Male|             Asia|      974.01|\n|         21617|2023-01-16 00:16:00|       2805|       134|      Home & Kitchen|       2|214.92|    0.48|     Gift Card|          34|           Male|    South America|      223.52|\n|         21618|2023-01-16 00:17:00|       4055|       553|            Clothing|       1| 39.66|    0.32|        PayPal|          68|         Female|           Africa|       26.97|\n|         21619|2023-01-16 00:18:00|       4088|       218|      Home & Kitchen|       6|195.25|    0.13|     Gift Card|          49|         Female|             Asia|      1019.2|\n|         21620|2023-01-16 00:19:00|       4413|       213|               Books|       6|384.57|    0.36|    Debit Card|          24|         Female|           Africa|     1476.75|\n|         21621|2023-01-16 00:20:00|       1554|       160|            Clothing|       9|192.76|     0.4|    Debit Card|          62|         Female|           Africa|      1040.9|\n|         21622|2023-01-16 00:21:00|       4372|       824|               Books|       1| 302.1|     0.1|    Debit Card|          58|           Male|    North America|      271.89|\n|         21623|2023-01-16 00:22:00|       2692|       294|   Sports & Outdoors|       4|341.74|    0.09|   Credit Card|          45|           Male|        Australia|     1243.93|\n|         21624|2023-01-16 00:23:00|       1398|       593|Beauty & Personal...|       6|393.27|    0.33|        PayPal|          49|         Female|           Europe|     1580.95|\n|         21625|2023-01-16 00:24:00|       1529|       198|Beauty & Personal...|       4|329.47|    0.28|    Debit Card|          43|         Female|    North America|      948.87|\n+--------------+-------------------+-----------+----------+--------------------+--------+------+--------+--------------+------------+---------------+-----------------+------------+\nonly showing top 20 rows\n\n"
     ]
    }
   ],
   "source": [
    "df=spark.read.csv(adls_url, schema=schema, header=True,inferSchema=True)\n",
    "df.show()\n"
   ]
  },
  {
   "cell_type": "code",
   "execution_count": 0,
   "metadata": {
    "application/vnd.databricks.v1+cell": {
     "cellMetadata": {
      "byteLimit": 2048000,
      "rowLimit": 10000
     },
     "inputWidgets": {},
     "nuid": "5433d665-230a-4ec6-8490-033ac71d43fd",
     "showTitle": false,
     "title": ""
    }
   },
   "outputs": [],
   "source": [
    "# Correctly renaming columns in a chained manner\n",
    "df = df.withColumnRenamed(\"transaction_id\", \"id\") \\\n",
    "       .withColumnRenamed(\"timestamp\", \"Timestamp\") \\\n",
    "       .withColumnRenamed(\"customer_id\", \"Customer_id\") \\\n",
    "       .withColumnRenamed(\"product_id\", \"Product_id\") \\\n",
    "       .withColumnRenamed(\"product_category\", \"Product_category\") \\\n",
    "       .withColumnRenamed(\"quantity\", \"Quantity\") \\\n",
    "       .withColumnRenamed(\"price\", \"Price\") \\\n",
    "       .withColumnRenamed(\"discount\", \"Discount\") \\\n",
    "       .withColumnRenamed(\"payment_method\", \"Payment_method\") \\\n",
    "       .withColumnRenamed(\"customer_age\", \"Customer_age\") \\\n",
    "       .withColumnRenamed(\"customer_gender\", \"Customer_gender\") \\\n",
    "       .withColumnRenamed(\"customer_location\", \"Customer_location\") \\\n",
    "       .withColumnRenamed(\"total_amount\", \"Total_amount\")\n",
    "\n",
    "\n"
   ]
  },
  {
   "cell_type": "code",
   "execution_count": 0,
   "metadata": {
    "application/vnd.databricks.v1+cell": {
     "cellMetadata": {
      "byteLimit": 2048000,
      "rowLimit": 10000
     },
     "inputWidgets": {},
     "nuid": "4d693394-0ce7-4c4a-b59d-281218aa6ecc",
     "showTitle": false,
     "title": ""
    }
   },
   "outputs": [
    {
     "output_type": "stream",
     "name": "stdout",
     "output_type": "stream",
     "text": [
      "+-----+-------------------+-----------+----------+--------------------+--------+------+--------+--------------+------------+---------------+-----------------+------------+\n|   id|          Timestamp|Customer_id|Product_id|    Product_category|Quantity| Price|Discount|Payment_method|Customer_age|Customer_gender|Customer_location|Total_amount|\n+-----+-------------------+-----------+----------+--------------------+--------+------+--------+--------------+------------+---------------+-----------------+------------+\n|21606|2023-01-16 00:05:00|       2231|       759|               Books|       4|177.62|    0.05|     Gift Card|          24|         Female|    North America|      674.96|\n|21607|2023-01-16 00:06:00|       1542|       331|Beauty & Personal...|       7|395.48|    0.07|        PayPal|          64|          Other|           Africa|     2574.57|\n|21608|2023-01-16 00:07:00|       2133|       797|               Books|       7|145.02|    0.15|     Gift Card|          21|         Female|           Africa|      862.87|\n|21609|2023-01-16 00:08:00|       3113|       236|            Clothing|       7| 487.3|    0.42|    Debit Card|          59|           Male|           Africa|     1978.44|\n|21610|2023-01-16 00:09:00|       4994|       202|      Home & Kitchen|       7|412.64|    0.39|    Debit Card|          22|         Female|           Africa|     1761.97|\n|21611|2023-01-16 00:10:00|       2340|       328|   Sports & Outdoors|       8|259.83|     0.4|    Debit Card|          21|          Other|           Africa|     1247.18|\n|21612|2023-01-16 00:11:00|       3035|       827|Beauty & Personal...|       1|218.24|    0.32|    Debit Card|          52|           Male|             Asia|       148.4|\n|21613|2023-01-16 00:12:00|       4513|       642|      Home & Kitchen|       4|283.35|    0.21|   Credit Card|          48|           Male|           Africa|      895.39|\n|21614|2023-01-16 00:13:00|       4750|       601|            Clothing|       7|  5.78|    0.43|    Debit Card|          43|          Other|    North America|       23.06|\n|21615|2023-01-16 00:14:00|       3999|       559|         Electronics|       1| 240.3|    0.01|     Gift Card|          20|          Other|    North America|       237.9|\n|21616|2023-01-16 00:15:00|       3729|       859|   Sports & Outdoors|       3|421.65|    0.23|    Debit Card|          46|           Male|             Asia|      974.01|\n|21617|2023-01-16 00:16:00|       2805|       134|      Home & Kitchen|       2|214.92|    0.48|     Gift Card|          34|           Male|    South America|      223.52|\n|21618|2023-01-16 00:17:00|       4055|       553|            Clothing|       1| 39.66|    0.32|        PayPal|          68|         Female|           Africa|       26.97|\n|21619|2023-01-16 00:18:00|       4088|       218|      Home & Kitchen|       6|195.25|    0.13|     Gift Card|          49|         Female|             Asia|      1019.2|\n|21620|2023-01-16 00:19:00|       4413|       213|               Books|       6|384.57|    0.36|    Debit Card|          24|         Female|           Africa|     1476.75|\n|21621|2023-01-16 00:20:00|       1554|       160|            Clothing|       9|192.76|     0.4|    Debit Card|          62|         Female|           Africa|      1040.9|\n|21622|2023-01-16 00:21:00|       4372|       824|               Books|       1| 302.1|     0.1|    Debit Card|          58|           Male|    North America|      271.89|\n|21623|2023-01-16 00:22:00|       2692|       294|   Sports & Outdoors|       4|341.74|    0.09|   Credit Card|          45|           Male|        Australia|     1243.93|\n|21624|2023-01-16 00:23:00|       1398|       593|Beauty & Personal...|       6|393.27|    0.33|        PayPal|          49|         Female|           Europe|     1580.95|\n|21625|2023-01-16 00:24:00|       1529|       198|Beauty & Personal...|       4|329.47|    0.28|    Debit Card|          43|         Female|    North America|      948.87|\n+-----+-------------------+-----------+----------+--------------------+--------+------+--------+--------------+------------+---------------+-----------------+------------+\nonly showing top 20 rows\n\n"
     ]
    }
   ],
   "source": [
    "df.show()"
   ]
  },
  {
   "cell_type": "code",
   "execution_count": 0,
   "metadata": {
    "application/vnd.databricks.v1+cell": {
     "cellMetadata": {
      "byteLimit": 2048000,
      "rowLimit": 10000
     },
     "inputWidgets": {},
     "nuid": "9d2e9343-4e8b-4c72-b2cf-cf6c8dd2051e",
     "showTitle": false,
     "title": ""
    }
   },
   "outputs": [
    {
     "output_type": "stream",
     "name": "stdout",
     "output_type": "stream",
     "text": [
      "The number of Null values are :  0\n"
     ]
    }
   ],
   "source": [
    "#Checking of missing values\n",
    "\n",
    "for a in df.columns:\n",
    "    if df.filter(df[a].isNull()):\n",
    "        null_count = df.filter(df[a].isNull()).count()    \n",
    "print('The number of Null values are : ',null_count)"
   ]
  },
  {
   "cell_type": "code",
   "execution_count": 0,
   "metadata": {
    "application/vnd.databricks.v1+cell": {
     "cellMetadata": {
      "byteLimit": 2048000,
      "rowLimit": 10000
     },
     "inputWidgets": {},
     "nuid": "b0005361-0fdf-4278-ac73-04f70f2bde1d",
     "showTitle": false,
     "title": ""
    }
   },
   "outputs": [
    {
     "output_type": "stream",
     "name": "stdout",
     "output_type": "stream",
     "text": [
      "No duplicates found.\n"
     ]
    }
   ],
   "source": [
    "# Drop duplicates based on all columns\n",
    "df_no_duplicates = df.dropDuplicates()\n",
    "\n",
    "# Count the number of records in the original and the new DataFrame\n",
    "if df.count() != df_no_duplicates.count():\n",
    "    print(\"There are duplicates in the DataFrame.\")\n",
    "else:\n",
    "    print(\"No duplicates found.\")\n"
   ]
  },
  {
   "cell_type": "code",
   "execution_count": 0,
   "metadata": {
    "application/vnd.databricks.v1+cell": {
     "cellMetadata": {
      "byteLimit": 2048000,
      "rowLimit": 10000
     },
     "inputWidgets": {},
     "nuid": "456be644-e8c8-4160-953b-58476759b45c",
     "showTitle": false,
     "title": ""
    }
   },
   "outputs": [
    {
     "output_type": "stream",
     "name": "stdout",
     "output_type": "stream",
     "text": [
      "1000000\n1000000\n"
     ]
    }
   ],
   "source": [
    "from pyspark.sql.functions import col\n",
    "\n",
    "# Remove outliers using IQR method\n",
    "q1 = df.approxQuantile(\"price\", [0.25], 0.05)[0]\n",
    "q3 = df.approxQuantile(\"price\", [0.75], 0.05)[0]\n",
    "iqr = q3 - q1\n",
    "lower_bound = q1 - 1.5 * iqr\n",
    "upper_bound = q3 + 1.5 * iqr\n",
    "\n",
    "newdf = df.filter((col('price') >= lower_bound) & (col('price') <= upper_bound))\n",
    "\n",
    "print(df.count())\n",
    "print(newdf.count())\n",
    "\n"
   ]
  },
  {
   "cell_type": "code",
   "execution_count": 0,
   "metadata": {
    "application/vnd.databricks.v1+cell": {
     "cellMetadata": {
      "byteLimit": 2048000,
      "rowLimit": 10000
     },
     "inputWidgets": {},
     "nuid": "46fb1057-5455-412b-9d31-adb9825b813e",
     "showTitle": false,
     "title": ""
    }
   },
   "outputs": [
    {
     "output_type": "stream",
     "name": "stdout",
     "output_type": "stream",
     "text": [
      "+---+-------------------+-----------+----------+--------------------+--------+------+--------+--------------+------------+---------------+-----------------+------------+\n| id|          Timestamp|Customer_id|Product_id|    Product_category|Quantity| Price|Discount|Payment_method|Customer_age|Customer_gender|Customer_location|Total_amount|\n+---+-------------------+-----------+----------+--------------------+--------+------+--------+--------------+------------+---------------+-----------------+------------+\n|  1|2023-01-01 00:00:00|       1993|       915|      Home & Kitchen|       8| 103.3|    0.23|     Gift Card|          27|         Female|    North America|      636.33|\n|  2|2023-01-01 00:01:00|       3474|       553|            Clothing|       9|180.28|    0.31|     Gift Card|          53|          Other|    South America|     1119.54|\n|  3|2023-01-01 00:02:00|       4564|       248|Beauty & Personal...|       7| 81.58|    0.27|    Debit Card|          34|          Other|    North America|      416.87|\n|  4|2023-01-01 00:03:00|       1133|       948|            Clothing|       3| 235.2|     0.0|    Debit Card|          50|          Other|        Australia|       705.6|\n|  5|2023-01-01 00:04:00|       3626|       284|               Books|       9| 453.0|    0.34|   Credit Card|          23|         Female|        Australia|     2690.82|\n|  6|2023-01-01 00:05:00|       3349|       802|         Electronics|       2| 48.95|    0.16|     Gift Card|          28|           Male|    South America|       82.24|\n|  7|2023-01-01 00:06:00|       1136|       971|            Clothing|       6|  68.7|    0.45|        PayPal|          58|           Male|    North America|      226.71|\n|  8|2023-01-01 00:07:00|       4778|       638|               Books|       9|202.84|    0.13|        PayPal|          37|         Female|        Australia|     1588.24|\n|  9|2023-01-01 00:08:00|       1456|       160|   Sports & Outdoors|       7| 175.7|     0.3|   Credit Card|          24|          Other|             Asia|      860.93|\n| 10|2023-01-01 00:09:00|       4683|       346|Beauty & Personal...|       8| 17.68|    0.17|    Debit Card|          55|         Female|             Asia|       117.4|\n+---+-------------------+-----------+----------+--------------------+--------+------+--------+--------------+------------+---------------+-----------------+------------+\nonly showing top 10 rows\n\n"
     ]
    }
   ],
   "source": [
    "df.createOrReplaceTempView(\"view_retaildataset\")\n",
    "checking = \"\"\"\n",
    "                SELECT * FROM view_retaildataset\n",
    "                ORDER BY id\n",
    "              \"\"\"\n",
    "checking_df = spark.sql(checking)\n",
    "checking_df.show(10)\n"
   ]
  },
  {
   "cell_type": "code",
   "execution_count": 0,
   "metadata": {
    "application/vnd.databricks.v1+cell": {
     "cellMetadata": {
      "byteLimit": 2048000,
      "rowLimit": 10000
     },
     "inputWidgets": {},
     "nuid": "1276bb6c-6405-4ca0-a7b1-1dced618045f",
     "showTitle": false,
     "title": ""
    }
   },
   "outputs": [],
   "source": [
    "checking_df.write.mode(\"append\").parquet((f\"abfss://{target_container}@adlsprojct22.dfs.core.windows.net/retail_dataset\"))"
   ]
  },
  {
   "cell_type": "code",
   "execution_count": 0,
   "metadata": {
    "application/vnd.databricks.v1+cell": {
     "cellMetadata": {},
     "inputWidgets": {},
     "nuid": "5b3f3a91-8be6-4901-8e62-77941a5efb6a",
     "showTitle": false,
     "title": ""
    }
   },
   "outputs": [],
   "source": [
    "from pyspark.sql import SparkSession\n",
    "from datetime import datetime\n",
    "\n",
    "spark = SparkSession.builder.appName(\"ReadData\").getOrCreate()\n",
    "storage_account_name = \"adlsprojct22\"\n",
    "src_container = \"preprocessed\"\n",
    "file_path = \"retail_dataset/\"\n",
    "target_container = \"processed\"\n",
    "\n",
    "adls_url = f\"abfss://{src_container}@{storage_account_name}.dfs.core.windows.net/{file_path}\"\n",
    "\n",
    "df = spark.read.csv(adls_url, sep=',', header=True)\n",
    "\n",
    "df.show()\n"
   ]
  }
 ],
 "metadata": {
  "application/vnd.databricks.v1+notebook": {
   "dashboards": [],
   "environmentMetadata": null,
   "language": "python",
   "notebookMetadata": {
    "pythonIndentUnit": 4
   },
   "notebookName": "Untitled Notebook 2024-08-23 11:22:41",
   "widgets": {}
  }
 },
 "nbformat": 4,
 "nbformat_minor": 0
}
